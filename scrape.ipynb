{
 "cells": [
  {
   "cell_type": "code",
   "execution_count": 4,
   "metadata": {},
   "outputs": [],
   "source": [
    "# Import libraries\n",
    "import requests\n",
    "from bs4 import BeautifulSoup\n",
    "from selenium import webdriver\n",
    "import os\n",
    "    "
   ]
  },
  {
   "cell_type": "code",
   "execution_count": 7,
   "metadata": {},
   "outputs": [],
   "source": [
    "os.environ[\"PATH\"] += os.pathsep + '/home/parth/Downloads/setup/'#path to geckodriver\n",
    "# Collect first page of artists’ list\n",
    "driver = webdriver.Firefox()\n",
    "driver.get('https://www.nga.gov/collection/artists.html?const_startLetter=z&pageNumber=1&lastFacet=const_startLetter')\n"
   ]
  },
  {
   "cell_type": "code",
   "execution_count": 8,
   "metadata": {},
   "outputs": [
    {
     "name": "stdout",
     "output_type": "stream",
     "text": [
      "Zabaglia, Niccola\n",
      "https://www.nga.gov/content/ngaweb/collection/artist-info.11630.html\n",
      "Zaccone, Fabian\n",
      "https://www.nga.gov/content/ngaweb/collection/artist-info.34202.html\n",
      "Zachmann, Max\n",
      "https://www.nga.gov/content/ngaweb/collection/artist-info.46892.html\n",
      "Zadkine, Ossip\n",
      "https://www.nga.gov/content/ngaweb/collection/artist-info.3475.html\n",
      "Zaech, Bernhard\n",
      "https://www.nga.gov/content/ngaweb/collection/artist-info.25135.html\n",
      "Zagar, Jacob\n",
      "https://www.nga.gov/content/ngaweb/collection/artist-info.2298.html\n",
      "Zagroba, Idalia\n",
      "https://www.nga.gov/content/ngaweb/collection/artist-info.23988.html\n",
      "Zaidenberg, A.\n",
      "https://www.nga.gov/content/ngaweb/collection/artist-info.8232.html\n",
      "Zaidenberg, Arthur\n",
      "https://www.nga.gov/content/ngaweb/collection/artist-info.34154.html\n",
      "Zajac, Jack\n",
      "https://www.nga.gov/content/ngaweb/collection/artist-info.3450.html\n",
      "Zak, Eugène\n",
      "https://www.nga.gov/content/ngaweb/collection/artist-info.1986.html\n",
      "Zakharov, Gurii Fillipovich\n",
      "https://www.nga.gov/content/ngaweb/collection/artist-info.3451.html\n",
      "Zakowortny, Igor\n",
      "https://www.nga.gov/content/ngaweb/collection/artist-info.20099.html\n",
      "Zalce, Alfredo\n",
      "https://www.nga.gov/content/ngaweb/collection/artist-info.3452.html\n",
      "Zalopany, Michele\n",
      "https://www.nga.gov/content/ngaweb/collection/artist-info.34309.html\n",
      "Zammiello, Craig\n",
      "https://www.nga.gov/content/ngaweb/collection/artist-info.27191.html\n",
      "Zammitt, Norman\n",
      "https://www.nga.gov/content/ngaweb/collection/artist-info.5846.html\n",
      "Zamorensis, Rodericus\n",
      "https://www.nga.gov/content/ngaweb/collection/artist-info.46882.html\n",
      "Zanartú, Enrique Antunez\n",
      "https://www.nga.gov/content/ngaweb/collection/artist-info.3453.html\n",
      "Zanchi, Antonio\n",
      "https://www.nga.gov/content/ngaweb/collection/artist-info.35173.html\n"
     ]
    }
   ],
   "source": [
    "# page = requests.get('https://www.nga.gov/collection/artists.html?const_startLetter=z&pageNumber=1&lastFacet=const_startLetter')\n",
    "html = driver.page_source\n",
    "soup = BeautifulSoup(html, 'html.parser')\n",
    "# Pull all text from the BodyText div\n",
    "\n",
    "last_links = soup.find(class_='nav-returns btm')\n",
    "last_links.decompose()\n",
    "\n",
    "artist_name_list = soup.find(class_='returns',id='returns')\n",
    "# print(artist_name_list.prettify())\n",
    "\n",
    "# Pull text from all instances of <a> tag within BodyText div\n",
    "artist_name_list_items = artist_name_list.find_all('a')\n",
    "# print (artist_name_list_items)\n",
    "# Create for loop to print out all artists' names\n",
    "for artist_name in artist_name_list_items:\n",
    "    name = artist_name.contents[0]\n",
    "    links = 'https://www.nga.gov' + artist_name.get('href')\n",
    "    print(name)\n",
    "    print(links)\n",
    "    \n",
    "    \n",
    "    "
   ]
  },
  {
   "cell_type": "code",
   "execution_count": null,
   "metadata": {},
   "outputs": [],
   "source": []
  }
 ],
 "metadata": {
  "kernelspec": {
   "display_name": "Python 3",
   "language": "python",
   "name": "python3"
  },
  "language_info": {
   "codemirror_mode": {
    "name": "ipython",
    "version": 3
   },
   "file_extension": ".py",
   "mimetype": "text/x-python",
   "name": "python",
   "nbconvert_exporter": "python",
   "pygments_lexer": "ipython3",
   "version": "3.5.2"
  }
 },
 "nbformat": 4,
 "nbformat_minor": 2
}
